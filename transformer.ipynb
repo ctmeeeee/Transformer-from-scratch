{
 "cells": [
  {
   "cell_type": "markdown",
   "id": "2052dd8d",
   "metadata": {},
   "source": [
    "## Transformer From Scratch"
   ]
  },
  {
   "cell_type": "markdown",
   "id": "e223fec6",
   "metadata": {},
   "source": [
    "![Transformer Structure](png/tf.png)"
   ]
  },
  {
   "cell_type": "markdown",
   "id": "0f5a43b8",
   "metadata": {},
   "source": [
    "根据论文中的transformer架构，我们可以把模型拆分为以下几个模块  \n",
    "1. Encoder  \n",
    "2. Decoder  \n",
    "3. Positional-Encoding\n",
    "    "
   ]
  },
  {
   "cell_type": "markdown",
   "id": "95802422",
   "metadata": {},
   "source": [
    "而在Encoder和Decoder中，又分为以下几个小模块  \n",
    "1. (Masked)Multihead-Attention  \n",
    "2. Add & Norm  \n",
    "3. Feed-Foward"
   ]
  },
  {
   "cell_type": "markdown",
   "id": "b6132928",
   "metadata": {},
   "source": [
    "至此，大致结构已经分析完成，接下来开始代码实现"
   ]
  },
  {
   "cell_type": "markdown",
   "id": "963bfd15",
   "metadata": {},
   "source": [
    "首先，我们完成最基本的**多头注意力机制模块**(Multihead-Attention)"
   ]
  },
  {
   "cell_type": "markdown",
   "id": "e2164b7b",
   "metadata": {},
   "source": [
    "![多头注意力](png/mth.png)"
   ]
  },
  {
   "cell_type": "markdown",
   "id": "862f27be",
   "metadata": {},
   "source": [
    "每一个多头注意力模块都是由**h个注意力头**拼接而成，每一个注意力头的输入都是QKV三个矩阵  "
   ]
  },
  {
   "cell_type": "code",
   "execution_count": 77,
   "id": "6a85ceb2",
   "metadata": {},
   "outputs": [],
   "source": [
    "import math\n",
    "import torch\n",
    "import torch.nn as nn"
   ]
  },
  {
   "cell_type": "code",
   "execution_count": 78,
   "id": "90fb06ac",
   "metadata": {},
   "outputs": [],
   "source": [
    "# 注意力头类\n",
    "class ScaledDotProductAttention(nn.Module):\n",
    "    def __init__(self):\n",
    "        super(ScaledDotProductAttention, self).__init__()\n",
    "        self.softmax = nn.Softmax(dim=-1)\n",
    "\n",
    "    def forward(self, q, k, v, mask=None, e=1e-12):\n",
    "        \"\"\"\n",
    "        k是[batch_size, head, length, d_k]的四维张量\n",
    "        \"\"\"\n",
    "        batch_size, head, length, d_k = k.size()\n",
    "\n",
    "        k_t = k.transpose(2, 3)\n",
    "        score = (q @ k_t) / math.sqrt(d_k)\n",
    "\n",
    "        if mask is not None:\n",
    "            score = score.masked_fill(mask == 0, -10000)\n",
    "\n",
    "        score = self.softmax(score)\n",
    "\n",
    "        v = score @ v\n",
    "\n",
    "        return v, score\n",
    "    \n",
    "# 多头注意力类\n",
    "class MultiheadAttention(nn.Module):\n",
    "    def __init__(self, d_model, n_heads):\n",
    "        super(MultiheadAttention, self).__init__()\n",
    "        '''\n",
    "        n_heads: 注意力头数\n",
    "        d_model: 模型维度(通常为512)\n",
    "        '''\n",
    "        self.n_heads = n_heads\n",
    "        self.attention = ScaledDotProductAttention()\n",
    "        self.w_q = nn.Linear(d_model, d_model)\n",
    "        self.w_k = nn.Linear(d_model, d_model)\n",
    "        self.w_v = nn.Linear(d_model, d_model)\n",
    "        self.w_concat = nn.Linear(d_model, d_model)\n",
    "\n",
    "    def forward(self, q, k, v, mask=None):\n",
    "        #1. dot product with weight matrices\n",
    "        q, k, v = self.w_q(q), self.w_k(k), self.w_v(v)\n",
    "\n",
    "        #2. split tensor by number of heads\n",
    "        q, k, v = self.split(q), self.split(k), self.split(v)\n",
    "\n",
    "        #3. do scale dot product to compute similarity\n",
    "        if mask is not None:\n",
    "            # 假设 mask 是 [B, L_q, L_k]\n",
    "            # 需要扩展到 [B, H, L_q, L_k]\n",
    "            mask = mask.unsqueeze(1)  # 或者使用 expand\n",
    "\n",
    "        out, attention = self.attention(q, k, v, mask=mask)\n",
    "\n",
    "        #4. concat and pass linear layer\n",
    "        out = self.concat(out)\n",
    "        out = self.w_concat(out)\n",
    "\n",
    "        return out\n",
    "\n",
    "    # 将输入的QKV根据注意力头数进行划分\n",
    "    def split(self, tensor):\n",
    "        batch_size, length, d_model = tensor.size()\n",
    "        d_tensor = d_model // self.n_heads\n",
    "        tensor = tensor.view(batch_size, length, self.n_heads, d_tensor).transpose(1, 2)\n",
    "\n",
    "        return tensor\n",
    "\n",
    "    # 最后将各个头的输出进行拼接\n",
    "    def concat(self, tensor):\n",
    "        batch_size, head, length, d_tensor = tensor.size()\n",
    "\n",
    "        d_model = d_tensor * head\n",
    "\n",
    "        tensor = tensor.transpose(1, 2).contiguous().view(batch_size, length, d_model)\n",
    "\n",
    "        return tensor  "
   ]
  },
  {
   "cell_type": "code",
   "execution_count": 79,
   "id": "278bd350",
   "metadata": {},
   "outputs": [
    {
     "name": "stdout",
     "output_type": "stream",
     "text": [
      "MultiheadAttention(\n",
      "  (attention): ScaledDotProductAttention(\n",
      "    (softmax): Softmax(dim=-1)\n",
      "  )\n",
      "  (w_q): Linear(in_features=512, out_features=512, bias=True)\n",
      "  (w_k): Linear(in_features=512, out_features=512, bias=True)\n",
      "  (w_v): Linear(in_features=512, out_features=512, bias=True)\n",
      "  (w_concat): Linear(in_features=512, out_features=512, bias=True)\n",
      ")\n"
     ]
    }
   ],
   "source": [
    "mul = MultiheadAttention(512, 6)\n",
    "print(mul)"
   ]
  },
  {
   "cell_type": "markdown",
   "id": "6669dee6",
   "metadata": {},
   "source": [
    "接下来，完成功能部件**位置编码**"
   ]
  },
  {
   "cell_type": "markdown",
   "id": "4e13e1d1",
   "metadata": {},
   "source": [
    "![pe](png/pe.png)"
   ]
  },
  {
   "cell_type": "markdown",
   "id": "0ca048cb",
   "metadata": {},
   "source": [
    "根据公式，我们来代码实现"
   ]
  },
  {
   "cell_type": "code",
   "execution_count": 80,
   "id": "93df2521",
   "metadata": {},
   "outputs": [],
   "source": [
    "class PositionalEncoding(nn.Module):\n",
    "    def __init__(self, d_model, max_len=512, device=None):\n",
    "        '''\n",
    "        参数d_model: 模型维度\n",
    "        参数max_len: 最大序列长度\n",
    "        参数device: 设备\n",
    "        '''\n",
    "        super(PositionalEncoding, self).__init__()\n",
    "\n",
    "        self.encoding = torch.zeros(max_len, d_model, device=device)\n",
    "        self.encoding.requires_grad = False\n",
    "\n",
    "        pos = torch.arange(0, max_len, device=device)\n",
    "        pos = pos.float().unsqueeze(dim=1)\n",
    "        #从一维张量到二维，方便后续运算进行广播操作，变成[max_len, d_model/2]的矩阵\n",
    "\n",
    "        _2i = torch.arange(0, d_model, step=2, device=device).float()\n",
    "\n",
    "        self.encoding[:, 0::2] = torch.sin(pos / (10000 ** (_2i / d_model)))\n",
    "        self.encoding[:, 1::2] = torch.cos(pos / (10000 ** (_2i / d_model)))\n",
    "\n",
    "    def forward(self, x):\n",
    "        '''\n",
    "        参数x: [batch_size, seq_len, d_model]的张量\n",
    "        '''\n",
    "        seq_len = x.size(1)\n",
    "        pos_enc = self.encoding[:seq_len, :].unsqueeze(0)\n",
    "        return x + pos_enc"
   ]
  },
  {
   "cell_type": "markdown",
   "id": "c8861398",
   "metadata": {},
   "source": [
    "接下来实现**FFN**"
   ]
  },
  {
   "cell_type": "code",
   "execution_count": 81,
   "id": "b7f029b2",
   "metadata": {},
   "outputs": [],
   "source": [
    "class PositionWiseFFN(nn.Module):\n",
    "    def __init__(self, d_model, d_ff, dropout=0.1):\n",
    "        super(PositionWiseFFN, self).__init__()\n",
    "        '''\n",
    "        d_model: 模型维度\n",
    "        d_ff: FFN中间层维度(一般为2048)\n",
    "        '''\n",
    "        self.linear1 = nn.Linear(d_model, d_ff)\n",
    "        self.linear2 = nn.Linear(d_ff, d_model)\n",
    "        self.relu = nn.ReLU()\n",
    "        self.dropout = nn.Dropout(dropout)\n",
    "\n",
    "    def forward(self, x):\n",
    "        x = self.linear1(x)\n",
    "        x = self.relu(x)\n",
    "        x = self.dropout(x)\n",
    "        x = self.linear2(x)\n",
    "        return x"
   ]
  },
  {
   "cell_type": "markdown",
   "id": "62bb5495",
   "metadata": {},
   "source": [
    "最后，完成**Layernorm**层"
   ]
  },
  {
   "cell_type": "code",
   "execution_count": 82,
   "id": "1a1352ef",
   "metadata": {},
   "outputs": [],
   "source": [
    "class AddNorm(nn.Module):\n",
    "    def __init__(self, d_model, dropout=0.1):\n",
    "        super(AddNorm, self).__init__()\n",
    "        self.norm = nn.LayerNorm(d_model)\n",
    "        self.dropout = nn.Dropout(dropout)\n",
    "\n",
    "    def forward(self, x, sublayer_output):\n",
    "        '''\n",
    "        x: 原始输入\n",
    "        sublayer_output: 子层输出\n",
    "        '''\n",
    "        return self.norm(x + self.dropout(sublayer_output))"
   ]
  },
  {
   "cell_type": "markdown",
   "id": "140a5bcc",
   "metadata": {},
   "source": [
    "至此，我们就可以完成Transformer整体模型的构建了"
   ]
  },
  {
   "cell_type": "code",
   "execution_count": 83,
   "id": "d80244b1",
   "metadata": {},
   "outputs": [],
   "source": [
    "# Decoder模块类构建\n",
    "class DecoderBlock(nn.Module):\n",
    "    def __init__(self, d_model, d_ff, n_heads, dropout=0.1):\n",
    "        super().__init__()\n",
    "        self.self_atten = MultiheadAttention(d_model, n_heads)\n",
    "        self.enc_dec_atten = MultiheadAttention(d_model, n_heads)\n",
    "        self.norm1 = AddNorm(d_model, dropout)\n",
    "        self.norm2 = AddNorm(d_model, dropout)\n",
    "        self.norm3 = AddNorm(d_model, dropout)\n",
    "        self.FFN = PositionWiseFFN(d_model, d_ff, dropout)\n",
    "\n",
    "    def forward(self, x, enc_output, tgt_mask=None, memory_mask=None):\n",
    "        x = self.norm1(x, self.self_atten(x, x, x, tgt_mask))\n",
    "        x = self.norm2(x, self.enc_dec_atten(x, enc_output, enc_output, memory_mask))\n",
    "        x = self.norm3(x, self.FFN(x))\n",
    "        return x\n",
    "\n",
    "class Decoder(nn.Module):\n",
    "    def __init__(self, d_model, d_ff, n_heads, voc_size, num_layers, max_len, dropout=0.1):\n",
    "        super().__init__()\n",
    "        self.embedding = nn.Embedding(voc_size, d_model)\n",
    "        self.linear = nn.Linear(d_model, voc_size)\n",
    "        self.pos_encoding = PositionalEncoding(d_model, max_len, dropout)\n",
    "        self.layers = nn.ModuleList([\n",
    "            DecoderBlock(d_model, d_ff, n_heads, dropout) for _ in range(num_layers)\n",
    "        ])\n",
    "\n",
    "    def forward(self, enc_output, tgt_seq, tgt_mask=None, memory_mask=None):\n",
    "        x = self.embedding(tgt_seq)\n",
    "        x = self.pos_encoding(x)\n",
    "        for layer in self.layers:\n",
    "            x = layer(x, enc_output, tgt_mask, memory_mask)\n",
    "        x = self.linear(x)\n",
    "        return x\n",
    "\n",
    "# Encoder模块类构建\n",
    "class EncoderBlock(nn.Module):\n",
    "    def __init__(self, d_model, d_ff, n_heads, dropout=0.1):\n",
    "        super(EncoderBlock, self).__init__()\n",
    "        self.attention = MultiheadAttention(d_model, n_heads)\n",
    "        self.norm1 = AddNorm(d_model, dropout)\n",
    "        self.FFN = PositionWiseFFN(d_model, d_ff, dropout)\n",
    "        self.norm2 = AddNorm(d_model, dropout)\n",
    "\n",
    "    def forward(self, x, mask=None):\n",
    "        x = self.norm1(x, self.attention(x, x, x, mask))\n",
    "        x = self.norm2(x, self.FFN(x))\n",
    "        return x\n",
    "    \n",
    "class Encoder(nn.Module):\n",
    "    def __init__(self, num_layers, d_model, d_ff, n_heads, voc_size, max_len):\n",
    "        super().__init__()\n",
    "        self.embedding = nn.Embedding(voc_size, d_model)\n",
    "        self.pos_encoding = PositionalEncoding(d_model, device='cuda', max_len=max_len)\n",
    "        self.layers = nn.ModuleList([\n",
    "            EncoderBlock(d_model, d_ff, n_heads) for _ in range(num_layers)\n",
    "        ])\n",
    "\n",
    "    def forward(self, x, mask=None):\n",
    "        x = self.embedding(x)\n",
    "        x = self.pos_encoding(x)\n",
    "        for layer in self.layers:\n",
    "            x = layer(x, mask)\n",
    "        return x"
   ]
  },
  {
   "cell_type": "code",
   "execution_count": 84,
   "id": "96249a3a",
   "metadata": {},
   "outputs": [],
   "source": [
    "class Transformer(nn.Module):\n",
    "    def __init__(self, src_voc_size, tgt_voc_size, d_model=512, n_layers=6, n_heads=8, d_ff=2048, max_len=512, dropout=0.1):\n",
    "        super().__init__()\n",
    "        self.encoder = Encoder(num_layers=n_layers, d_model=d_model, d_ff=d_ff, n_heads=n_heads, voc_size=src_voc_size, max_len=max_len)\n",
    "        self.decoder = Decoder(num_layers=n_layers, d_model=d_model, d_ff=d_ff, n_heads=n_heads, voc_size=tgt_voc_size, max_len=max_len, dropout=dropout)\n",
    "\n",
    "    def forward(self, src_seq, tgt_seq, src_mask=None, tgt_mask=None, memory_mask=None):\n",
    "        enc_output = self.encoder(src_seq, src_mask)\n",
    "        output = self.decoder(tgt_seq, enc_output, tgt_mask, memory_mask)\n",
    "        return output   "
   ]
  },
  {
   "cell_type": "markdown",
   "id": "18094bc9",
   "metadata": {},
   "source": [
    "完整代码如下"
   ]
  },
  {
   "cell_type": "code",
   "execution_count": 85,
   "id": "f80e20fe",
   "metadata": {},
   "outputs": [],
   "source": [
    "# 注意力头类\n",
    "def masked_fill_inf(x, mask):\n",
    "    # mask: True = valid, False = masked\n",
    "    x = x.masked_fill(~mask, float('-inf'))\n",
    "    return x\n",
    "\n",
    "class ScaledDotProductAttention(nn.Module):\n",
    "    def __init__(self):\n",
    "        super(ScaledDotProductAttention, self).__init__()\n",
    "        self.softmax = nn.Softmax(dim=-1)\n",
    "\n",
    "    def forward(self, q, k, v, mask=None, e=1e-12):\n",
    "        \"\"\"\n",
    "        k是[batch_size, head, length, d_k]的四维张量\n",
    "        \"\"\"\n",
    "        batch_size, head, length, d_k = k.size()\n",
    "\n",
    "        k_t = k.transpose(2, 3)\n",
    "        score = torch.matmul(q, k_t) / math.sqrt(d_k)\n",
    "\n",
    "        if mask is not None:\n",
    "            score = masked_fill_inf(score, mask)\n",
    "\n",
    "        score = self.softmax(score)\n",
    "\n",
    "        v = torch.matmul(score, v)\n",
    "\n",
    "        return v, score\n",
    "    \n",
    "# 多头注意力类\n",
    "class MultiheadAttention(nn.Module):\n",
    "    def __init__(self, d_model, n_heads):\n",
    "        super(MultiheadAttention, self).__init__()\n",
    "        '''\n",
    "        n_heads: 注意力头数\n",
    "        d_model: 模型维度(通常为512)\n",
    "        '''\n",
    "        self.n_heads = n_heads\n",
    "        self.attention = ScaledDotProductAttention()\n",
    "        self.w_q = nn.Linear(d_model, d_model)\n",
    "        self.w_k = nn.Linear(d_model, d_model)\n",
    "        self.w_v = nn.Linear(d_model, d_model)\n",
    "        self.w_concat = nn.Linear(d_model, d_model)\n",
    "\n",
    "    def forward(self, q, k, v, mask=None):\n",
    "        #1. dot product with weight matrices\n",
    "        q, k, v = self.w_q(q), self.w_k(k), self.w_v(v)\n",
    "\n",
    "        #2. split tensor by number of heads\n",
    "        q, k, v = self.split(q), self.split(k), self.split(v)\n",
    "\n",
    "        #3. do scale dot product to compute similarity\n",
    "\n",
    "        out, attention = self.attention(q, k, v, mask=mask)\n",
    "\n",
    "        #4. concat and pass linear layer\n",
    "        out = self.concat(out)\n",
    "        out = self.w_concat(out)\n",
    "\n",
    "        return out\n",
    "\n",
    "    # 将输入的QKV根据注意力头数进行划分\n",
    "    def split(self, tensor):\n",
    "        batch_size, length, d_model = tensor.size()\n",
    "        d_tensor = d_model // self.n_heads\n",
    "        tensor = tensor.view(batch_size, length, self.n_heads, d_tensor).transpose(1, 2)\n",
    "\n",
    "        return tensor\n",
    "\n",
    "    # 最后将各个头的输出进行拼接\n",
    "    def concat(self, tensor):\n",
    "        #print(tensor.size())\n",
    "        batch_size, head, length, d_tensor = tensor.size()\n",
    "\n",
    "        d_model = d_tensor * head\n",
    "\n",
    "        tensor = tensor.transpose(1, 2).contiguous().view(batch_size, length, d_model)\n",
    "\n",
    "        return tensor\n",
    "    \n",
    "class PositionalEncoding(nn.Module):\n",
    "    def __init__(self, d_model, max_len=512, device=None):\n",
    "        '''\n",
    "        参数d_model: 模型维度\n",
    "        参数max_len: 最大序列长度\n",
    "        参数device: 设备\n",
    "        '''\n",
    "        super(PositionalEncoding, self).__init__()\n",
    "\n",
    "        self.encoding = torch.zeros(max_len, d_model, device=device)\n",
    "        self.encoding.requires_grad = False\n",
    "\n",
    "        pos = torch.arange(0, max_len, device=device)\n",
    "        pos = pos.float().unsqueeze(dim=1)\n",
    "        #从一维张量到二维，方便后续运算进行广播操作，变成[max_len, d_model/2]的矩阵\n",
    "\n",
    "        _2i = torch.arange(0, d_model, step=2, device=device).float()\n",
    "\n",
    "        self.encoding[:, 0::2] = torch.sin(pos / (10000 ** (_2i / d_model)))\n",
    "        self.encoding[:, 1::2] = torch.cos(pos / (10000 ** (_2i / d_model)))\n",
    "\n",
    "    def forward(self, x):\n",
    "        '''\n",
    "        参数x: [batch_size, seq_len, d_model]的张量\n",
    "        '''\n",
    "        seq_len = x.size(1)\n",
    "        pos_enc = self.encoding[:seq_len, :].unsqueeze(0)\n",
    "        return x + pos_enc\n",
    "    \n",
    "class PositionWiseFFN(nn.Module):\n",
    "    def __init__(self, d_model, d_ff, dropout=0.1):\n",
    "        super(PositionWiseFFN, self).__init__()\n",
    "        '''\n",
    "        d_model: 模型维度\n",
    "        d_ff: FFN中间层维度(一般为2048)\n",
    "        '''\n",
    "        self.linear1 = nn.Linear(d_model, d_ff)\n",
    "        self.linear2 = nn.Linear(d_ff, d_model)\n",
    "        self.relu = nn.ReLU()\n",
    "        self.dropout = nn.Dropout(dropout)\n",
    "\n",
    "    def forward(self, x):\n",
    "        x = self.linear1(x)\n",
    "        x = self.relu(x)\n",
    "        x = self.dropout(x)\n",
    "        x = self.linear2(x)\n",
    "        return x\n",
    "    \n",
    "class AddNorm(nn.Module):\n",
    "    def __init__(self, d_model, dropout=0.1):\n",
    "        super(AddNorm, self).__init__()\n",
    "        self.norm = nn.LayerNorm(d_model)\n",
    "        self.dropout = nn.Dropout(dropout)\n",
    "\n",
    "    def forward(self, x, sublayer_output):\n",
    "        '''\n",
    "        x: 原始输入\n",
    "        sublayer_output: 子层输出\n",
    "        '''\n",
    "        return self.norm(x + self.dropout(sublayer_output))\n",
    "    \n",
    "# Decoder模块类构建\n",
    "class DecoderBlock(nn.Module):\n",
    "    def __init__(self, d_model, d_ff, n_heads, dropout=0.1):\n",
    "        super().__init__()\n",
    "        self.self_atten = MultiheadAttention(d_model, n_heads)\n",
    "        self.enc_dec_atten = MultiheadAttention(d_model, n_heads)\n",
    "        self.norm1 = AddNorm(d_model, dropout)\n",
    "        self.norm2 = AddNorm(d_model, dropout)\n",
    "        self.norm3 = AddNorm(d_model, dropout)\n",
    "        self.FFN = PositionWiseFFN(d_model, d_ff, dropout)\n",
    "\n",
    "    def forward(self, x, enc_output, tgt_mask=None, memory_mask=None):\n",
    "        x = self.norm1(x, self.self_atten(x, x, x, tgt_mask))\n",
    "        x = self.norm2(x, self.enc_dec_atten(x, enc_output, enc_output, memory_mask))\n",
    "        x = self.norm3(x, self.FFN(x))\n",
    "        return x\n",
    "\n",
    "class Decoder(nn.Module):\n",
    "    def __init__(self, num_layers, d_model, d_ff, n_heads, voc_size, max_len):\n",
    "        super().__init__()\n",
    "        self.embedding = nn.Embedding(voc_size, d_model)\n",
    "        self.linear = nn.Linear(d_model, voc_size)\n",
    "        self.pos_encoding = PositionalEncoding(d_model, device='cuda', max_len=max_len)\n",
    "        self.layers = nn.ModuleList([\n",
    "            DecoderBlock(d_model, d_ff, n_heads) for _ in range(num_layers)\n",
    "        ])\n",
    "\n",
    "    def forward(self, enc_output, tgt_seq, tgt_mask=None, memory_mask=None):\n",
    "        x = self.embedding(tgt_seq)\n",
    "        x = self.pos_encoding(x)\n",
    "        for layer in self.layers:\n",
    "            x = layer(x, enc_output, tgt_mask, memory_mask)\n",
    "        x = self.linear(x)\n",
    "        return x\n",
    "\n",
    "# Encoder模块类构建\n",
    "class EncoderBlock(nn.Module):\n",
    "    def __init__(self, d_model, d_ff, n_heads, dropout=0.1):\n",
    "        super(EncoderBlock, self).__init__()\n",
    "        self.attention = MultiheadAttention(d_model, n_heads)\n",
    "        self.norm1 = AddNorm(d_model, dropout)\n",
    "        self.FFN = PositionWiseFFN(d_model, d_ff, dropout)\n",
    "        self.norm2 = AddNorm(d_model, dropout)\n",
    "\n",
    "    def forward(self, x, mask=None):\n",
    "        x = self.norm1(x, self.attention(x, x, x, mask))\n",
    "        x = self.norm2(x, self.FFN(x))\n",
    "        return x\n",
    "    \n",
    "class Encoder(nn.Module):\n",
    "    def __init__(self, num_layers, d_model, d_ff, n_heads, voc_size, max_len):\n",
    "        super().__init__()\n",
    "        self.embedding = nn.Embedding(voc_size, d_model)\n",
    "        self.pos_encoding = PositionalEncoding(d_model, device='cuda', max_len=max_len)\n",
    "        self.layers = nn.ModuleList([\n",
    "            EncoderBlock(d_model, d_ff, n_heads) for _ in range(num_layers)\n",
    "        ])\n",
    "\n",
    "    def forward(self, x, mask=None):\n",
    "        x = self.embedding(x)\n",
    "        x = self.pos_encoding(x)\n",
    "        for layer in self.layers:\n",
    "            x = layer(x, mask)\n",
    "        return x\n",
    "    \n",
    "class Transformer(nn.Module):\n",
    "    def __init__(self, src_voc_size, tgt_voc_size, d_model=512, n_layers=6, n_heads=8, d_ff=2048, max_len=512, dropout=0.1):\n",
    "        super().__init__()\n",
    "        self.encoder = Encoder(num_layers=n_layers, d_model=d_model, d_ff=d_ff, n_heads=n_heads, voc_size=src_voc_size, max_len=max_len)\n",
    "        self.decoder = Decoder(num_layers=n_layers, d_model=d_model, d_ff=d_ff, n_heads=n_heads, voc_size=tgt_voc_size, max_len=max_len)\n",
    "\n",
    "    def forward(self, src_seq, tgt_seq, src_mask=None, tgt_mask=None, memory_mask=None):\n",
    "        enc_output = self.encoder(src_seq, src_mask)\n",
    "        output = self.decoder(tgt_seq, enc_output, tgt_mask, memory_mask)\n",
    "        return output "
   ]
  },
  {
   "cell_type": "code",
   "execution_count": 86,
   "id": "0f271b31",
   "metadata": {},
   "outputs": [
    {
     "name": "stdout",
     "output_type": "stream",
     "text": [
      "Transformer(\n",
      "  (encoder): Encoder(\n",
      "    (embedding): Embedding(10, 512)\n",
      "    (pos_encoding): PositionalEncoding()\n",
      "    (layers): ModuleList(\n",
      "      (0-5): 6 x EncoderBlock(\n",
      "        (attention): MultiheadAttention(\n",
      "          (attention): ScaledDotProductAttention(\n",
      "            (softmax): Softmax(dim=-1)\n",
      "          )\n",
      "          (w_q): Linear(in_features=512, out_features=512, bias=True)\n",
      "          (w_k): Linear(in_features=512, out_features=512, bias=True)\n",
      "          (w_v): Linear(in_features=512, out_features=512, bias=True)\n",
      "          (w_concat): Linear(in_features=512, out_features=512, bias=True)\n",
      "        )\n",
      "        (norm1): AddNorm(\n",
      "          (norm): LayerNorm((512,), eps=1e-05, elementwise_affine=True)\n",
      "          (dropout): Dropout(p=0.1, inplace=False)\n",
      "        )\n",
      "        (FFN): PositionWiseFFN(\n",
      "          (linear1): Linear(in_features=512, out_features=2048, bias=True)\n",
      "          (linear2): Linear(in_features=2048, out_features=512, bias=True)\n",
      "          (relu): ReLU()\n",
      "          (dropout): Dropout(p=0.1, inplace=False)\n",
      "        )\n",
      "        (norm2): AddNorm(\n",
      "          (norm): LayerNorm((512,), eps=1e-05, elementwise_affine=True)\n",
      "          (dropout): Dropout(p=0.1, inplace=False)\n",
      "        )\n",
      "      )\n",
      "    )\n",
      "  )\n",
      "  (decoder): Decoder(\n",
      "    (embedding): Embedding(10, 512)\n",
      "    (linear): Linear(in_features=512, out_features=10, bias=True)\n",
      "    (pos_encoding): PositionalEncoding()\n",
      "    (layers): ModuleList(\n",
      "      (0-5): 6 x DecoderBlock(\n",
      "        (self_atten): MultiheadAttention(\n",
      "          (attention): ScaledDotProductAttention(\n",
      "            (softmax): Softmax(dim=-1)\n",
      "          )\n",
      "          (w_q): Linear(in_features=512, out_features=512, bias=True)\n",
      "          (w_k): Linear(in_features=512, out_features=512, bias=True)\n",
      "          (w_v): Linear(in_features=512, out_features=512, bias=True)\n",
      "          (w_concat): Linear(in_features=512, out_features=512, bias=True)\n",
      "        )\n",
      "        (enc_dec_atten): MultiheadAttention(\n",
      "          (attention): ScaledDotProductAttention(\n",
      "            (softmax): Softmax(dim=-1)\n",
      "          )\n",
      "          (w_q): Linear(in_features=512, out_features=512, bias=True)\n",
      "          (w_k): Linear(in_features=512, out_features=512, bias=True)\n",
      "          (w_v): Linear(in_features=512, out_features=512, bias=True)\n",
      "          (w_concat): Linear(in_features=512, out_features=512, bias=True)\n",
      "        )\n",
      "        (norm1): AddNorm(\n",
      "          (norm): LayerNorm((512,), eps=1e-05, elementwise_affine=True)\n",
      "          (dropout): Dropout(p=0.1, inplace=False)\n",
      "        )\n",
      "        (norm2): AddNorm(\n",
      "          (norm): LayerNorm((512,), eps=1e-05, elementwise_affine=True)\n",
      "          (dropout): Dropout(p=0.1, inplace=False)\n",
      "        )\n",
      "        (norm3): AddNorm(\n",
      "          (norm): LayerNorm((512,), eps=1e-05, elementwise_affine=True)\n",
      "          (dropout): Dropout(p=0.1, inplace=False)\n",
      "        )\n",
      "        (FFN): PositionWiseFFN(\n",
      "          (linear1): Linear(in_features=512, out_features=2048, bias=True)\n",
      "          (linear2): Linear(in_features=2048, out_features=512, bias=True)\n",
      "          (relu): ReLU()\n",
      "          (dropout): Dropout(p=0.1, inplace=False)\n",
      "        )\n",
      "      )\n",
      "    )\n",
      "  )\n",
      ")\n"
     ]
    }
   ],
   "source": [
    "tf = Transformer(10, 10)\n",
    "print(tf)"
   ]
  },
  {
   "cell_type": "markdown",
   "id": "adcba205",
   "metadata": {},
   "source": [
    "接下来我们开始训练已经写好的Transformer模型吧  \n",
    "  \n",
    "我准备使用Multi30k数据集进行训练"
   ]
  },
  {
   "cell_type": "markdown",
   "id": "7db427de",
   "metadata": {},
   "source": [
    "下载spacy所需的模型"
   ]
  },
  {
   "cell_type": "code",
   "execution_count": 87,
   "id": "912f7719",
   "metadata": {},
   "outputs": [
    {
     "name": "stdout",
     "output_type": "stream",
     "text": [
      "Looking in indexes: https://pypi.tuna.tsinghua.edu.cn/simple\n",
      "Collecting de-core-news-sm==3.8.0\n",
      "  Downloading https://github.com/explosion/spacy-models/releases/download/de_core_news_sm-3.8.0/de_core_news_sm-3.8.0-py3-none-any.whl (14.6 MB)\n",
      "     ---------------------------------------- 0.0/14.6 MB ? eta -:--:--\n",
      "     - -------------------------------------- 0.5/14.6 MB 8.2 MB/s eta 0:00:02\n",
      "     ------------------- -------------------- 7.1/14.6 MB 29.0 MB/s eta 0:00:01\n",
      "     -------------------- ------------------- 7.6/14.6 MB 26.0 MB/s eta 0:00:01\n",
      "     --------------------- ------------------ 7.9/14.6 MB 13.2 MB/s eta 0:00:01\n",
      "     --------------------------------- ----- 12.6/14.6 MB 14.6 MB/s eta 0:00:01\n",
      "     --------------------------------------- 14.6/14.6 MB 13.9 MB/s eta 0:00:00\n",
      "\u001b[38;5;2m✔ Download and installation successful\u001b[0m\n",
      "You can now load the package via spacy.load('de_core_news_sm')\n",
      "Looking in indexes: https://pypi.tuna.tsinghua.edu.cn/simple\n",
      "Collecting en-core-web-sm==3.8.0\n",
      "  Downloading https://github.com/explosion/spacy-models/releases/download/en_core_web_sm-3.8.0/en_core_web_sm-3.8.0-py3-none-any.whl (12.8 MB)\n",
      "     ---------------------------------------- 0.0/12.8 MB ? eta -:--:--\n",
      "     - -------------------------------------- 0.5/12.8 MB 8.5 MB/s eta 0:00:02\n",
      "     ---------------------- ----------------- 7.3/12.8 MB 26.6 MB/s eta 0:00:01\n",
      "     ----------------------------- ---------- 9.4/12.8 MB 20.3 MB/s eta 0:00:01\n",
      "     ----------------------------------- --- 11.8/12.8 MB 18.0 MB/s eta 0:00:01\n",
      "     --------------------------------------- 12.8/12.8 MB 16.7 MB/s eta 0:00:00\n",
      "\u001b[38;5;2m✔ Download and installation successful\u001b[0m\n",
      "You can now load the package via spacy.load('en_core_web_sm')\n"
     ]
    }
   ],
   "source": [
    "!python -m spacy download de_core_news_sm\n",
    "!python -m spacy download en_core_web_sm\n"
   ]
  },
  {
   "cell_type": "code",
   "execution_count": 89,
   "id": "862ffcbf",
   "metadata": {},
   "outputs": [],
   "source": [
    "from datasets import load_dataset\n",
    "from torch.utils.data import Dataset, DataLoader\n",
    "from collections import Counter\n",
    "import spacy\n",
    "\n",
    "'''\n",
    "    Multi30k的数据集样本格式为:\n",
    "        (en, de)\n",
    "    的元组\n",
    "'''\n",
    "ds = load_dataset(\"bentrevett/multi30k\")\n",
    "#print(ds)\n",
    "\n",
    "spacy_de = spacy.load(\"de_core_news_sm\")\n",
    "spacy_en = spacy.load(\"en_core_web_sm\")\n",
    "\n",
    "def tokenize_en(text):\n",
    "    return [tok.text.lower() for tok in spacy_en.tokenizer(text)]\n",
    "\n",
    "def tokenize_de(text):\n",
    "    return [tok.text.lower() for tok in spacy_de.tokenizer(text)]\n",
    "\n",
    "\n",
    "# ------ 构建词表 ------\n",
    "def build_vocab(texts, tokenizer, min_freq=2):\n",
    "    counter = Counter()\n",
    "    for text in texts:\n",
    "        tokens = tokenizer(text)\n",
    "        counter.update(tokens)\n",
    "    vocab = {\"<pad>\": 0, \"<unk>\": 1, \"<bos>\": 2, \"<eos>\": 3}\n",
    "    for word, freq in counter.items():\n",
    "        if freq >= min_freq and word not in vocab:\n",
    "            vocab[word] = len(vocab)\n",
    "    return vocab\n",
    "\n",
    "# ------ 数字化文本 ------\n",
    "def numericalize(tokens, vocab, bos=True, eos=True):\n",
    "    ids = [vocab.get(tok, vocab[\"<unk>\"]) for tok in tokens]\n",
    "    if bos: ids = [vocab[\"<bos>\"]] + ids\n",
    "    if eos: ids = ids + [vocab[\"<eos>\"]]\n",
    "    return ids\n",
    "\n",
    "# ------ Padding ------\n",
    "def pad_sequence(sequences, pad_idx):\n",
    "    max_len = max(len(seq) for seq in sequences)\n",
    "    return [seq + [pad_idx] * (max_len - len(seq)) for seq in sequences]\n",
    "\n",
    "def collate_fn(batch):\n",
    "    src_batch, tgt_batch = zip(*batch)\n",
    "    pad_idx_src = de_vocab[\"<pad>\"]\n",
    "    pad_idx_tgt = en_vocab[\"<pad>\"]\n",
    "\n",
    "    src_batch = pad_sequence(src_batch, pad_idx_src)\n",
    "    tgt_batch = pad_sequence(tgt_batch, pad_idx_tgt)\n",
    "\n",
    "    src_batch = torch.tensor(src_batch, dtype=torch.long)\n",
    "    tgt_batch = torch.tensor(tgt_batch, dtype=torch.long)\n",
    "\n",
    "    return src_batch, tgt_batch\n",
    "\n",
    "class TranslationDataset(Dataset):\n",
    "    def __init__(self, src_texts, tgt_texts, src_vocab, tgt_vocab):\n",
    "        self.src_data = [numericalize(tokenize_de(s), src_vocab) for s in src_texts]\n",
    "        self.tgt_data = [numericalize(tokenize_en(t), tgt_vocab) for t in tgt_texts]\n",
    "\n",
    "    def __len__(self):\n",
    "        return len(self.src_data)\n",
    "\n",
    "    def __getitem__(self, idx):\n",
    "        return self.src_data[idx], self.tgt_data[idx]\n",
    "    \n",
    "de_texts = [example['de'] for example in ds['train']]\n",
    "en_texts = [example['en'] for example in ds['train']]\n",
    "\n",
    "de_vocab = build_vocab(de_texts, tokenize_de)\n",
    "en_vocab = build_vocab(en_texts, tokenize_en)\n",
    "    \n",
    "train_dataset = TranslationDataset(de_texts, en_texts, de_vocab, en_vocab)\n",
    "\n",
    "train_loader = DataLoader(\n",
    "    train_dataset,\n",
    "    batch_size=32,\n",
    "    shuffle=True,\n",
    "    collate_fn=collate_fn\n",
    ")\n",
    "\n",
    "de_texts_val = [example['de'] for example in ds['validation']]\n",
    "en_texts_val = [example['en'] for example in ds['validation']]\n",
    "\n",
    "val_dataset = TranslationDataset(de_texts_val, en_texts_val, de_vocab, en_vocab)\n",
    "\n",
    "val_loader = DataLoader(\n",
    "    val_dataset,\n",
    "    batch_size=32,\n",
    "    shuffle=True,\n",
    "    collate_fn=collate_fn\n",
    ")\n",
    "\n"
   ]
  },
  {
   "cell_type": "markdown",
   "id": "b356b5ca",
   "metadata": {},
   "source": [
    "以上完成数据加载阶段，接下来开始训练"
   ]
  },
  {
   "cell_type": "code",
   "execution_count": null,
   "id": "91520f6b",
   "metadata": {},
   "outputs": [
    {
     "name": "stdout",
     "output_type": "stream",
     "text": [
      "cuda\n"
     ]
    },
    {
     "name": "stderr",
     "output_type": "stream",
     "text": [
      "Epoch 1/25: 100%|██████████| 907/907 [02:41<00:00,  5.62it/s, loss=3.16]\n"
     ]
    },
    {
     "name": "stdout",
     "output_type": "stream",
     "text": [
      "Epoch 1 Training Loss: 3.4299\n",
      "Epoch 1 Validation Loss: 2.4953\n",
      "✅ Best model saved at epoch 1, val_loss = 2.4953\n"
     ]
    },
    {
     "name": "stderr",
     "output_type": "stream",
     "text": [
      "Epoch 2/25: 100%|██████████| 907/907 [04:00<00:00,  3.77it/s, loss=1.83]\n"
     ]
    },
    {
     "name": "stdout",
     "output_type": "stream",
     "text": [
      "Epoch 2 Training Loss: 2.3018\n",
      "Epoch 2 Validation Loss: 2.0408\n",
      "✅ Best model saved at epoch 2, val_loss = 2.0408\n"
     ]
    },
    {
     "name": "stderr",
     "output_type": "stream",
     "text": [
      "Epoch 3/25: 100%|██████████| 907/907 [03:34<00:00,  4.22it/s, loss=1.98]\n"
     ]
    },
    {
     "name": "stdout",
     "output_type": "stream",
     "text": [
      "Epoch 3 Training Loss: 1.8557\n",
      "Epoch 3 Validation Loss: 1.8169\n",
      "✅ Best model saved at epoch 3, val_loss = 1.8169\n"
     ]
    },
    {
     "name": "stderr",
     "output_type": "stream",
     "text": [
      "Epoch 4/25: 100%|██████████| 907/907 [03:45<00:00,  4.03it/s, loss=0.855]\n"
     ]
    },
    {
     "name": "stdout",
     "output_type": "stream",
     "text": [
      "Epoch 4 Training Loss: 1.5334\n",
      "Epoch 4 Validation Loss: 1.7535\n",
      "✅ Best model saved at epoch 4, val_loss = 1.7535\n"
     ]
    },
    {
     "name": "stderr",
     "output_type": "stream",
     "text": [
      "Epoch 5/25: 100%|██████████| 907/907 [03:41<00:00,  4.09it/s, loss=1.16] \n"
     ]
    },
    {
     "name": "stdout",
     "output_type": "stream",
     "text": [
      "Epoch 5 Training Loss: 1.2653\n",
      "Epoch 5 Validation Loss: 1.6720\n",
      "✅ Best model saved at epoch 5, val_loss = 1.6720\n"
     ]
    },
    {
     "name": "stderr",
     "output_type": "stream",
     "text": [
      "Epoch 6/25: 100%|██████████| 907/907 [03:42<00:00,  4.09it/s, loss=0.693]\n"
     ]
    },
    {
     "name": "stdout",
     "output_type": "stream",
     "text": [
      "Epoch 6 Training Loss: 1.0277\n",
      "Epoch 6 Validation Loss: 1.6819\n"
     ]
    },
    {
     "name": "stderr",
     "output_type": "stream",
     "text": [
      "Epoch 7/25: 100%|██████████| 907/907 [03:35<00:00,  4.22it/s, loss=0.939]\n"
     ]
    },
    {
     "name": "stdout",
     "output_type": "stream",
     "text": [
      "Epoch 7 Training Loss: 0.8169\n",
      "Epoch 7 Validation Loss: 1.7065\n"
     ]
    },
    {
     "name": "stderr",
     "output_type": "stream",
     "text": [
      "Epoch 8/25: 100%|██████████| 907/907 [03:41<00:00,  4.09it/s, loss=1.05] \n"
     ]
    },
    {
     "name": "stdout",
     "output_type": "stream",
     "text": [
      "Epoch 8 Training Loss: 0.6326\n",
      "Epoch 8 Validation Loss: 1.7926\n"
     ]
    },
    {
     "name": "stderr",
     "output_type": "stream",
     "text": [
      "Epoch 9/25: 100%|██████████| 907/907 [03:53<00:00,  3.88it/s, loss=0.397]\n"
     ]
    },
    {
     "name": "stdout",
     "output_type": "stream",
     "text": [
      "Epoch 9 Training Loss: 0.4749\n",
      "Epoch 9 Validation Loss: 1.8723\n"
     ]
    },
    {
     "name": "stderr",
     "output_type": "stream",
     "text": [
      "Epoch 10/25: 100%|██████████| 907/907 [03:54<00:00,  3.87it/s, loss=0.391]\n"
     ]
    },
    {
     "name": "stdout",
     "output_type": "stream",
     "text": [
      "Epoch 10 Training Loss: 0.3517\n",
      "Epoch 10 Validation Loss: 1.9441\n"
     ]
    },
    {
     "name": "stderr",
     "output_type": "stream",
     "text": [
      "Epoch 11/25: 100%|██████████| 907/907 [03:52<00:00,  3.89it/s, loss=0.334]\n"
     ]
    },
    {
     "name": "stdout",
     "output_type": "stream",
     "text": [
      "Epoch 11 Training Loss: 0.2609\n",
      "Epoch 11 Validation Loss: 2.0464\n"
     ]
    },
    {
     "name": "stderr",
     "output_type": "stream",
     "text": [
      "Epoch 12/25: 100%|██████████| 907/907 [03:54<00:00,  3.87it/s, loss=0.325]\n"
     ]
    },
    {
     "name": "stdout",
     "output_type": "stream",
     "text": [
      "Epoch 12 Training Loss: 0.2062\n",
      "Epoch 12 Validation Loss: 2.0938\n"
     ]
    },
    {
     "name": "stderr",
     "output_type": "stream",
     "text": [
      "Epoch 13/25: 100%|██████████| 907/907 [03:55<00:00,  3.84it/s, loss=0.142] \n"
     ]
    },
    {
     "name": "stdout",
     "output_type": "stream",
     "text": [
      "Epoch 13 Training Loss: 0.1695\n",
      "Epoch 13 Validation Loss: 2.1754\n"
     ]
    },
    {
     "name": "stderr",
     "output_type": "stream",
     "text": [
      "Epoch 14/25: 100%|██████████| 907/907 [04:04<00:00,  3.71it/s, loss=0.146] \n"
     ]
    },
    {
     "name": "stdout",
     "output_type": "stream",
     "text": [
      "Epoch 14 Training Loss: 0.1405\n",
      "Epoch 14 Validation Loss: 2.2541\n"
     ]
    },
    {
     "name": "stderr",
     "output_type": "stream",
     "text": [
      "Epoch 15/25: 100%|██████████| 907/907 [04:08<00:00,  3.64it/s, loss=0.136] \n"
     ]
    },
    {
     "name": "stdout",
     "output_type": "stream",
     "text": [
      "Epoch 15 Training Loss: 0.1248\n",
      "Epoch 15 Validation Loss: 2.2783\n"
     ]
    },
    {
     "name": "stderr",
     "output_type": "stream",
     "text": [
      "Epoch 16/25: 100%|██████████| 907/907 [03:58<00:00,  3.80it/s, loss=0.14]  \n"
     ]
    },
    {
     "name": "stdout",
     "output_type": "stream",
     "text": [
      "Epoch 16 Training Loss: 0.1119\n",
      "Epoch 16 Validation Loss: 2.3570\n"
     ]
    },
    {
     "name": "stderr",
     "output_type": "stream",
     "text": [
      "Epoch 17/25: 100%|██████████| 907/907 [03:48<00:00,  3.97it/s, loss=0.136] \n"
     ]
    },
    {
     "name": "stdout",
     "output_type": "stream",
     "text": [
      "Epoch 17 Training Loss: 0.0994\n",
      "Epoch 17 Validation Loss: 2.3657\n"
     ]
    },
    {
     "name": "stderr",
     "output_type": "stream",
     "text": [
      "Epoch 18/25: 100%|██████████| 907/907 [03:58<00:00,  3.80it/s, loss=0.0876]\n"
     ]
    },
    {
     "name": "stdout",
     "output_type": "stream",
     "text": [
      "Epoch 18 Training Loss: 0.0929\n",
      "Epoch 18 Validation Loss: 2.4299\n"
     ]
    },
    {
     "name": "stderr",
     "output_type": "stream",
     "text": [
      "Epoch 19/25: 100%|██████████| 907/907 [03:51<00:00,  3.91it/s, loss=0.11]  \n"
     ]
    },
    {
     "name": "stdout",
     "output_type": "stream",
     "text": [
      "Epoch 19 Training Loss: 0.0870\n",
      "Epoch 19 Validation Loss: 2.4833\n"
     ]
    },
    {
     "name": "stderr",
     "output_type": "stream",
     "text": [
      "Epoch 20/25: 100%|██████████| 907/907 [03:51<00:00,  3.91it/s, loss=0.127] \n"
     ]
    },
    {
     "name": "stdout",
     "output_type": "stream",
     "text": [
      "Epoch 20 Training Loss: 0.0794\n",
      "Epoch 20 Validation Loss: 2.5041\n"
     ]
    },
    {
     "name": "stderr",
     "output_type": "stream",
     "text": [
      "Epoch 21/25: 100%|██████████| 907/907 [03:53<00:00,  3.89it/s, loss=0.116] \n"
     ]
    },
    {
     "name": "stdout",
     "output_type": "stream",
     "text": [
      "Epoch 21 Training Loss: 0.0755\n",
      "Epoch 21 Validation Loss: 2.5228\n"
     ]
    },
    {
     "name": "stderr",
     "output_type": "stream",
     "text": [
      "Epoch 22/25: 100%|██████████| 907/907 [04:07<00:00,  3.67it/s, loss=0.0518]\n"
     ]
    },
    {
     "name": "stdout",
     "output_type": "stream",
     "text": [
      "Epoch 22 Training Loss: 0.0734\n",
      "Epoch 22 Validation Loss: 2.5663\n"
     ]
    },
    {
     "name": "stderr",
     "output_type": "stream",
     "text": [
      "Epoch 23/25: 100%|██████████| 907/907 [03:59<00:00,  3.78it/s, loss=0.134] \n"
     ]
    },
    {
     "name": "stdout",
     "output_type": "stream",
     "text": [
      "Epoch 23 Training Loss: 0.0696\n",
      "Epoch 23 Validation Loss: 2.6214\n"
     ]
    },
    {
     "name": "stderr",
     "output_type": "stream",
     "text": [
      "Epoch 24/25: 100%|██████████| 907/907 [04:00<00:00,  3.77it/s, loss=0.0694]\n"
     ]
    },
    {
     "name": "stdout",
     "output_type": "stream",
     "text": [
      "Epoch 24 Training Loss: 0.0665\n",
      "Epoch 24 Validation Loss: 2.6588\n"
     ]
    },
    {
     "name": "stderr",
     "output_type": "stream",
     "text": [
      "Epoch 25/25: 100%|██████████| 907/907 [03:47<00:00,  3.99it/s, loss=0.0393]\n"
     ]
    },
    {
     "name": "stdout",
     "output_type": "stream",
     "text": [
      "Epoch 25 Training Loss: 0.0633\n",
      "Epoch 25 Validation Loss: 2.6827\n",
      "✅ Final model saved as last_model.pth\n"
     ]
    }
   ],
   "source": [
    "from tqdm import tqdm\n",
    "# ------ 创建Mask -------\n",
    "\n",
    "def create_padding_mask(seq, pad_idx):\n",
    "    # seq_shape: (batch_size, seq_len)\n",
    "    # return_size: (batch_size, 1, 1, seq_len)\n",
    "    return (seq != pad_idx).unsqueeze(1).unsqueeze(2)\n",
    "\n",
    "def create_subsequent_mask(size):\n",
    "    mask = torch.tril(torch.ones((size, size), dtype=torch.bool))\n",
    "    return mask\n",
    "\n",
    "# ------ 训练 ------\n",
    "\n",
    "model = Transformer(len(de_vocab), len(en_vocab))\n",
    "criterion = nn.CrossEntropyLoss(ignore_index=en_vocab[\"<pad>\"])\n",
    "optimizer = torch.optim.Adam(model.parameters(), lr=1e-4)\n",
    "device = 'cuda' if torch.cuda.is_available() else 'cpu'\n",
    "print(device)\n",
    "\n",
    "\n",
    "def train_model(num_epochs, device, train_loader, val_loader=None):\n",
    "    model.to(device)\n",
    "    best_loss = float('inf')  # 初始最佳损失\n",
    "    best_model_path = \"best_model.pth\"\n",
    "\n",
    "    for epoch in range(num_epochs):\n",
    "        model.train()\n",
    "        progress = tqdm(train_loader, desc=f\"Epoch {epoch + 1}/{num_epochs}\")\n",
    "        total_loss = 0\n",
    "\n",
    "        for src_batch, tgt_batch in progress:\n",
    "            src_batch = src_batch.to(device)\n",
    "            tgt_batch = tgt_batch.to(device)\n",
    "\n",
    "            src_mask = create_padding_mask(src_batch, pad_idx=de_vocab[\"<pad>\"])\n",
    "            memory_mask = create_padding_mask(src_batch, pad_idx=de_vocab[\"<pad>\"])\n",
    "\n",
    "            tgt_input = tgt_batch[:, :-1]\n",
    "            tgt_output = tgt_batch[:, 1:]\n",
    "            batch_size, tgt_len = tgt_input.size()\n",
    "\n",
    "            tgt_pad_mask = create_padding_mask(tgt_input, pad_idx=en_vocab[\"<pad>\"])\n",
    "            tgt_sub_mask = create_subsequent_mask(tgt_len).to(tgt_input.device)\n",
    "            tgt_sub_mask = tgt_sub_mask.unsqueeze(0).unsqueeze(1)\n",
    "            tgt_mask = tgt_pad_mask & tgt_sub_mask\n",
    "\n",
    "            enc_output = model.encoder(src_batch, src_mask)\n",
    "            logits = model.decoder(enc_output, tgt_input, tgt_mask=tgt_mask, memory_mask=memory_mask)\n",
    "\n",
    "            loss = criterion(logits.reshape(-1, logits.size(-1)), tgt_output.reshape(-1))\n",
    "\n",
    "            optimizer.zero_grad()\n",
    "            loss.backward()\n",
    "            optimizer.step()\n",
    "\n",
    "            torch.nn.utils.clip_grad_norm_(model.parameters(), max_norm=1.0)\n",
    "\n",
    "            total_loss += loss.item()\n",
    "            progress.set_postfix(loss=loss.item())\n",
    "\n",
    "        print(f\"Epoch {epoch + 1} Training Loss: {total_loss / len(train_loader):.4f}\")\n",
    "\n",
    "        # ============ 验证逻辑 ============\n",
    "        if val_loader is not None:\n",
    "            model.eval()\n",
    "            val_loss = 0\n",
    "            with torch.no_grad():\n",
    "                for src_val, tgt_val in val_loader:\n",
    "                    src_val = src_val.to(device)\n",
    "                    tgt_val = tgt_val.to(device)\n",
    "\n",
    "                    src_mask = create_padding_mask(src_val, pad_idx=de_vocab[\"<pad>\"])\n",
    "                    memory_mask = create_padding_mask(src_val, pad_idx=de_vocab[\"<pad>\"])\n",
    "\n",
    "                    tgt_input = tgt_val[:, :-1]\n",
    "                    tgt_output = tgt_val[:, 1:]\n",
    "                    tgt_len = tgt_input.size(1)\n",
    "\n",
    "                    tgt_pad_mask = create_padding_mask(tgt_input, pad_idx=en_vocab[\"<pad>\"])\n",
    "                    tgt_sub_mask = create_subsequent_mask(tgt_len).to(tgt_input.device)\n",
    "                    tgt_sub_mask = tgt_sub_mask.unsqueeze(0).unsqueeze(1)\n",
    "                    tgt_mask = tgt_pad_mask & tgt_sub_mask\n",
    "\n",
    "                    enc_output = model.encoder(src_val, src_mask)\n",
    "                    logits = model.decoder(enc_output, tgt_input, tgt_mask=tgt_mask, memory_mask=memory_mask)\n",
    "\n",
    "                    loss = criterion(logits.reshape(-1, logits.size(-1)), tgt_output.reshape(-1))\n",
    "                    val_loss += loss.item()\n",
    "\n",
    "            val_loss /= len(val_loader)\n",
    "            print(f\"Epoch {epoch + 1} Validation Loss: {val_loss:.4f}\")\n",
    "\n",
    "            # ==== 保存最佳模型 ====\n",
    "            if val_loss < best_loss:\n",
    "                best_loss = val_loss\n",
    "                torch.save(model.state_dict(), best_model_path)\n",
    "                print(f\"✅ Best model saved at epoch {epoch + 1}, val_loss = {val_loss:.4f}\")\n",
    "\n",
    "    # 训练结束后保存最终模型（不一定是最优）\n",
    "    torch.save(model.state_dict(), \"last_model.pth\")\n",
    "    print(\"✅ Final model saved as last_model.pth\")\n",
    "\n",
    "train_model(25, device, train_loader, val_loader)\n",
    "\n"
   ]
  },
  {
   "cell_type": "markdown",
   "id": "572144fc",
   "metadata": {},
   "source": [
    "训练已完成，接下来我们进行评估"
   ]
  },
  {
   "cell_type": "code",
   "execution_count": null,
   "id": "4ad432ec",
   "metadata": {},
   "outputs": [],
   "source": [
    "de_test_texts = [example['de'] for example in ds['test']]\n",
    "en_test_texts = [example['en'] for example in ds['test']]\n",
    "test_dataset = TranslationDataset(de_test_texts, en_test_texts, de_vocab, en_vocab)\n",
    "test_loader = DataLoader(test_dataset, batch_size=32, shuffle=False, collate_fn=collate_fn)\n",
    "\n",
    "from nltk.translate.bleu_score import corpus_bleu, SmoothingFunction\n",
    "smoothie = SmoothingFunction().method4\n",
    "\n",
    "def idx2word(vocab, idx):\n",
    "    idx2word_map = {v: k for k, v in vocab.items()}\n",
    "    return idx2word_map.get(idx, \"<unk>\")\n",
    "\n",
    "# 贪婪解码器：逐步生成目标序列\n",
    "def greedy_decode(model, src, src_mask, max_len, start_symbol, pad_idx):\n",
    "    memory = model.encoder(src, src_mask)\n",
    "    ys = torch.ones(src.size(0), 1).fill_(start_symbol).type_as(src)  # 初始 <bos>\n",
    "\n",
    "    for _ in range(max_len - 1):\n",
    "        tgt_mask = create_subsequent_mask(ys.size(1)).to(src.device)  # 自回归mask\n",
    "        tgt_mask = tgt_mask.unsqueeze(0).unsqueeze(1)  # (1, 1, tgt_len, tgt_len)\n",
    "        tgt_pad_mask = create_padding_mask(ys, pad_idx=pad_idx)\n",
    "        full_tgt_mask = tgt_mask & tgt_pad_mask\n",
    "\n",
    "        out = model.decoder(memory, ys, tgt_mask=full_tgt_mask, memory_mask=src_mask)\n",
    "        next_token = out[:, -1, :].argmax(dim=-1, keepdim=True)\n",
    "        ys = torch.cat([ys, next_token], dim=1)\n",
    "\n",
    "    return ys\n",
    "\n",
    "\n",
    "# 模型评估（自动生成 + 计算 BLEU）\n",
    "def evaluate(model, data_loader, device, max_len=50, verbose=False, load_model_path=None):\n",
    "    if load_model_path:\n",
    "        model.load_state_dict(torch.load(load_model_path))\n",
    "        print(f\"✅ Model loaded from {load_model_path}\")\n",
    "\n",
    "    model.eval()\n",
    "    references = []\n",
    "    hypotheses = []\n",
    "\n",
    "    total_loss = 0\n",
    "    num_batches = 0\n",
    "\n",
    "    with torch.no_grad():\n",
    "        for batch_idx, (src_batch, tgt_batch) in enumerate(data_loader):\n",
    "            src_batch = src_batch.to(device)\n",
    "            tgt_batch = tgt_batch.to(device)\n",
    "\n",
    "            src_mask = create_padding_mask(src_batch, pad_idx=de_vocab[\"<pad>\"])\n",
    "            memory_mask = src_mask.clone()\n",
    "\n",
    "            tgt_input = tgt_batch[:, :-1]\n",
    "            tgt_output = tgt_batch[:, 1:]\n",
    "\n",
    "            tgt_pad_mask = create_padding_mask(tgt_input, pad_idx=en_vocab[\"<pad>\"])\n",
    "            tgt_sub_mask = create_subsequent_mask(tgt_input.size(1)).to(device).unsqueeze(0).unsqueeze(1)\n",
    "            tgt_mask = tgt_pad_mask & tgt_sub_mask\n",
    "\n",
    "            output = model.decoder(\n",
    "                model.encoder(src_batch, src_mask),\n",
    "                tgt_input,\n",
    "                tgt_mask=tgt_mask,\n",
    "                memory_mask=memory_mask\n",
    "            )\n",
    "\n",
    "            loss = criterion(output.reshape(-1, output.size(-1)), tgt_output.reshape(-1))\n",
    "            total_loss += loss.item()\n",
    "            num_batches += 1\n",
    "\n",
    "            # 生成翻译\n",
    "            pred_seqs = greedy_decode(\n",
    "                model, src_batch, src_mask,\n",
    "                max_len=max_len,\n",
    "                start_symbol=en_vocab[\"<bos>\"],\n",
    "                pad_idx=en_vocab[\"<pad>\"]\n",
    "            )\n",
    "\n",
    "            for i, (pred, truth) in enumerate(zip(pred_seqs, tgt_batch)):\n",
    "                pred_tokens = [\n",
    "                    idx2word(en_vocab, idx.item())\n",
    "                    for idx in pred\n",
    "                    if idx.item() not in [en_vocab[\"<pad>\"], en_vocab[\"<bos>\"], en_vocab[\"<eos>\"]]\n",
    "                ]\n",
    "                truth_tokens = [\n",
    "                    idx2word(en_vocab, idx.item())\n",
    "                    for idx in truth\n",
    "                    if idx.item() not in [en_vocab[\"<pad>\"], en_vocab[\"<bos>\"], en_vocab[\"<eos>\"]]\n",
    "                ]\n",
    "\n",
    "                hypotheses.append(pred_tokens)\n",
    "                references.append([truth_tokens])\n",
    "\n",
    "                if verbose and batch_idx == 0 and i < 3:\n",
    "                    print(f\"\\n👉 Source {i + 1}:\")\n",
    "                    print(f\"Predicted: {' '.join(pred_tokens)}\")\n",
    "                    print(f\"Reference: {' '.join(truth_tokens)}\")\n",
    "\n",
    "    avg_loss = total_loss / num_batches\n",
    "    bleu = corpus_bleu(references, hypotheses, smoothing_function=smoothie) * 100\n",
    "\n",
    "    return avg_loss, bleu\n",
    "\n",
    "\n",
    "\n"
   ]
  },
  {
   "cell_type": "code",
   "execution_count": null,
   "id": "ba09ffa2",
   "metadata": {},
   "outputs": [
    {
     "name": "stdout",
     "output_type": "stream",
     "text": [
      "✅ Model loaded from last_model.pth\n",
      "\n",
      "👉 Source 1:\n",
      "Predicted: a man in an orange hat looking at something . . . . . . . . . . . . . . . . . . up . .\n",
      "Reference: a man in an orange hat starring at something .\n",
      "\n",
      "👉 Source 2:\n",
      "Predicted: a boston runs across grass in front of a white fence . . . . . . . . . . . . . . . on . on . on .\n",
      "Reference: a boston terrier is running on lush green grass in front of a white fence .\n",
      "\n",
      "👉 Source 3:\n",
      "Predicted: a girl is in a karate uniform with a silver board . . . . . . . . . . . . . . . with an up . .\n",
      "Reference: a girl in karate uniform breaking a stick with a front kick .\n",
      "\n",
      "📊 Test Loss: 2.8102\n",
      "🔍 BLEU Score: 13.47\n"
     ]
    }
   ],
   "source": [
    "test_loss, test_bleu = evaluate(model, test_loader, device, verbose=True, load_model_path=\"last_model.pth\")\n",
    "print(f\"\\n📊 Test Loss: {test_loss:.4f}\")\n",
    "print(f\"🔍 BLEU Score: {test_bleu:.2f}\")"
   ]
  },
  {
   "cell_type": "markdown",
   "id": "fcd23c39",
   "metadata": {},
   "source": [
    "至此，我们的Transformer模型就算是训练好了，剩下的事情就是去想办法提高BLEU分数了"
   ]
  },
  {
   "cell_type": "code",
   "execution_count": 1,
   "id": "a79273df",
   "metadata": {},
   "outputs": [
    {
     "data": {
      "image/png": "[encoded data removed]",
      "text/plain": [
       "<Figure size 1200x700 with 1 Axes>"
      ]
     },
     "metadata": {},
     "output_type": "display_data"
    }
   ],
   "source": [
    "import matplotlib.pyplot as plt\n",
    "\n",
    "# 提取的训练集和验证集loss\n",
    "train_loss = [\n",
    "    3.4299, 2.3018, 1.8557, 1.5334, 1.2653, 1.0277, 0.8169, 0.6326, 0.4749, 0.3517,\n",
    "    0.2609, 0.2062, 0.1695, 0.1405, 0.1248, 0.1119, 0.0994, 0.0929, 0.0870, 0.0794,\n",
    "    0.0755, 0.0734, 0.0696, 0.0665, 0.0633\n",
    "]\n",
    "\n",
    "val_loss = [\n",
    "    2.4953, 2.0408, 1.8169, 1.7535, 1.6720, 1.6819, 1.7065, 1.7926, 1.8723, 1.9441,\n",
    "    2.0464, 2.0938, 2.1754, 2.2541, 2.2783, 2.3570, 2.3657, 2.4299, 2.4833, 2.5041,\n",
    "    2.5228, 2.5663, 2.6214, 2.6588, 2.6827\n",
    "]\n",
    "\n",
    "epochs = range(1, 26)\n",
    "\n",
    "# 绘制曲线\n",
    "plt.figure(figsize=(12, 7))\n",
    "plt.plot(epochs, train_loss, label='Training Loss', marker='o', linestyle='-')\n",
    "plt.plot(epochs, val_loss, label='Validation Loss', marker='s', linestyle='--')\n",
    "plt.title('Training and Validation Loss Curve', fontsize=18)\n",
    "plt.xlabel('Epoch', fontsize=14)\n",
    "plt.ylabel('Loss', fontsize=14)\n",
    "plt.legend(fontsize=12)\n",
    "plt.grid(True)\n",
    "plt.xticks(epochs, fontsize=10)\n",
    "plt.yticks(fontsize=10)\n",
    "plt.tight_layout()\n",
    "\n",
    "# 保存为高清图片\n",
    "plt.savefig('loss_curve.png', dpi=300)  # dpi=300 表示高清\n",
    "plt.show()\n"
   ]
  }
 ],
 "metadata": {
  "kernelspec": {
   "display_name": "PRML",
   "language": "python",
   "name": "python3"
  },
  "language_info": {
   "codemirror_mode": {
    "name": "ipython",
    "version": 3
   },
   "file_extension": ".py",
   "mimetype": "text/x-python",
   "name": "python",
   "nbconvert_exporter": "python",
   "pygments_lexer": "ipython3",
   "version": "3.12.9"
  }
 },
 "nbformat": 4,
 "nbformat_minor": 5
}
